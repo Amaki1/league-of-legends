{
 "cells": [
  {
   "cell_type": "code",
   "execution_count": 2,
   "metadata": {},
   "outputs": [],
   "source": [
    "from riotwatcher import LolWatcher\n",
    "\n",
    "#initilize\n",
    "def getApiKey():\n",
    "    f= open('../ApiKeys/riotApiKey.txt','r')\n",
    "    return f.read()\n",
    "\n",
    "\n",
    "key_api = getApiKey()\n",
    "\n",
    "watcher = LolWatcher(key_api)\n"
   ]
  },
  {
   "cell_type": "code",
   "execution_count": 3,
   "metadata": {},
   "outputs": [],
   "source": [
    "platformRoutingValue = \"EUW1\"\n",
    "\n",
    "summonerName = \"amaaki\"\n",
    "\n",
    "summoner = watcher.summoner.by_name(platformRoutingValue,summonerName)\n",
    "\n",
    "puuid = summoner['puuid']\n",
    "\n",
    "matchlists = watcher.match.matchlist_by_puuid(platformRoutingValue,puuid)\n",
    "\n",
    "match = watcher.match.by_id(platformRoutingValue, matchlists[0])"
   ]
  },
  {
   "cell_type": "code",
   "execution_count": 5,
   "metadata": {},
   "outputs": [
    {
     "name": "stdout",
     "output_type": "stream",
     "text": [
      "['EumzaSppD--nDOkGHQSB7W5fL4oxIbXF8qDLHfJ9q54bi9mdcgukd9q3p88j3Vwh7w8cloJjcOwFEg', 'qsG36JJ2K-eyXpojmMgZNzTo07WVYzu2-FVlOnvGhf_PUaS54DX7MuzjizpSu1A49yTxdQ-cAgzb7g', 'TpFlXMg3q1-7F-dQE-fHe5QMsMtcQi4G8JkPmRBd9u4Ba8JDzHX7ss7VjbgX2Cds4oDsvNUQ06uwtw', 'kboxsqAmdGrS0bultw5GdL3QgTUotTPWyat1yrEq09zNHXFGHTB7nQDcLQBM9i2hyyYeYe8BSp55Jg', 'H9b7rO4iICzRMCD9HFzk9IBi3_la9w_cEjQHb7Jsxr5_Lv_IquTrcnWwFod8GmQZ7SXCuLTzTgDcqg', 'dAWuI3ccm1lBdFncIadI7xdz3daaLr0--6ENx9TwlHU4Gf_LOH44t2Ety-MyWRIOlIjB4sx-N56zMQ', 'THyyJalEfaoAFTO8rJioUOtPzSe6_VnFRcE4MwqYlQHJYpLeJCt3CZXoQ6u69sdKe6bbk52SMzs-qQ', '29C6wTCvL8F84dU8z8LuHu4YT99x44JWOSxSWgAjL_Z_WDvAtjTD2VVto_kpI44lppX8yYJX8X7bAw', 'GYJwIucPLlranG7p57OVUCPsCr_U1CzCqOGqnS41A2wQMx2TLBVe1Ykq1eFJMgMNs0A5JrZdKRaY9g', 'XPR8MuthQBxJpUyeJ5qUtqXImIgYx7KcwI9IS7uR38u-IIHFIoGlFJfC89iYuRkCGLz-BPNga7E-Fw']\n"
     ]
    }
   ],
   "source": [
    "print(match['metadata']['participants'])"
   ]
  },
  {
   "cell_type": "code",
   "execution_count": 19,
   "metadata": {},
   "outputs": [
    {
     "data": {
      "text/plain": [
       "1663359555"
      ]
     },
     "execution_count": 19,
     "metadata": {},
     "output_type": "execute_result"
    }
   ],
   "source": [
    "int(match['info']['gameCreation']/1000)"
   ]
  },
  {
   "cell_type": "code",
   "execution_count": 20,
   "metadata": {},
   "outputs": [
    {
     "name": "stdout",
     "output_type": "stream",
     "text": [
      "2022-09-16 21:19:15\n"
     ]
    }
   ],
   "source": [
    "import datetime\n",
    "\n",
    "x = datetime.datetime.fromtimestamp(int(match['info']['gameCreation']/1000))\n",
    "print(x)"
   ]
  },
  {
   "cell_type": "code",
   "execution_count": null,
   "metadata": {},
   "outputs": [],
   "source": []
  }
 ],
 "metadata": {
  "kernelspec": {
   "display_name": "Python 3.8.13 ('riot_devv')",
   "language": "python",
   "name": "python3"
  },
  "language_info": {
   "codemirror_mode": {
    "name": "ipython",
    "version": 3
   },
   "file_extension": ".py",
   "mimetype": "text/x-python",
   "name": "python",
   "nbconvert_exporter": "python",
   "pygments_lexer": "ipython3",
   "version": "3.8.13"
  },
  "orig_nbformat": 4,
  "vscode": {
   "interpreter": {
    "hash": "0b4e5b7dbbc7737de4c2efd7b1dbf56450c058133da84ddbf909fcbc1971868f"
   }
  }
 },
 "nbformat": 4,
 "nbformat_minor": 2
}
