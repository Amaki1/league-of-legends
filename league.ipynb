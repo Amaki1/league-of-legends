{
 "cells": [
  {
   "cell_type": "code",
   "execution_count": 1,
   "metadata": {},
   "outputs": [],
   "source": [
    "from riotwatcher import LolWatcher\n",
    "\n",
    "#initilize\n",
    "def getApiKey():\n",
    "    f= open('../ApiKeys/riotApiKey.txt','r')\n",
    "    return f.read()\n",
    "\n",
    "\n",
    "key_api = getApiKey()\n",
    "\n",
    "watcher = LolWatcher(key_api)\n"
   ]
  },
  {
   "cell_type": "code",
   "execution_count": 2,
   "metadata": {},
   "outputs": [],
   "source": [
    "platformRoutingValue = \"EUW1\"\n",
    "\n",
    "summonerName = \"amaaki\"\n",
    "\n",
    "summoner = watcher.summoner.by_name(platformRoutingValue,summonerName)\n",
    "\n",
    "puuid = summoner['puuid']\n",
    "\n",
    "matchlists = watcher.match.matchlist_by_puuid(platformRoutingValue,puuid)\n",
    "\n",
    "match = watcher.match.by_id(platformRoutingValue, matchlists[0])"
   ]
  },
  {
   "cell_type": "code",
   "execution_count": 6,
   "metadata": {},
   "outputs": [
    {
     "name": "stdout",
     "output_type": "stream",
     "text": [
      "['EUW1_6066005298', 'EUW1_6065835787', 'EUW1_6065619719', 'EUW1_6059720192', 'EUW1_6059706050', 'EUW1_6051990483', 'EUW1_6050422310', 'EUW1_6050387555', 'EUW1_6047572714', 'EUW1_6047367276', 'EUW1_6047299675', 'EUW1_6047245091', 'EUW1_6047183358', 'EUW1_5984114251', 'EUW1_5959237238', 'EUW1_5959175024', 'EUW1_5950298581', 'EUW1_5947287366', 'EUW1_5947271830', 'EUW1_5947214967']\n"
     ]
    }
   ],
   "source": [
    "print(match['metadata']['participants'])"
   ]
  },
  {
   "cell_type": "code",
   "execution_count": 4,
   "metadata": {},
   "outputs": [
    {
     "data": {
      "text/plain": [
       "1663359555"
      ]
     },
     "execution_count": 4,
     "metadata": {},
     "output_type": "execute_result"
    }
   ],
   "source": [
    "int(match['info']['gameCreation']/1000)"
   ]
  },
  {
   "cell_type": "code",
   "execution_count": 5,
   "metadata": {},
   "outputs": [
    {
     "name": "stdout",
     "output_type": "stream",
     "text": [
      "2022-09-16 21:19:15\n"
     ]
    }
   ],
   "source": [
    "import datetime\n",
    "\n",
    "x = datetime.datetime.fromtimestamp(int(match['info']['gameCreation']/1000))\n",
    "print(x)"
   ]
  },
  {
   "cell_type": "markdown",
   "metadata": {},
   "source": [
    "Id of all the matches of the summoner"
   ]
  },
  {
   "cell_type": "code",
   "execution_count": 8,
   "metadata": {},
   "outputs": [
    {
     "name": "stdout",
     "output_type": "stream",
     "text": [
      "20\n"
     ]
    }
   ],
   "source": [
    "print(len(matchlists))"
   ]
  },
  {
   "cell_type": "markdown",
   "metadata": {},
   "source": [
    "Each match has:\n",
    "* metadata\n",
    "    * dataVersion\n",
    "    * matchId\n",
    "    * participants\n",
    "* info\n",
    "    * gameCreation\n",
    "    * gameDuration\n",
    "    * gameEndTimestamp\n",
    "    * gameId\n",
    "    * gameMode\n",
    "    * gameName\n",
    "    * gameStartTimestamp\n",
    "    * gameType\n",
    "    * gameVersion\n",
    "    * mapId\n",
    "    * participants (they have all the info here)\n",
    "    * platformId\n",
    "    * queueId\n",
    "    * teams\n",
    "    * tournamentCode"
   ]
  },
  {
   "cell_type": "code",
   "execution_count": 11,
   "metadata": {},
   "outputs": [
    {
     "data": {
      "text/plain": [
       "dict"
      ]
     },
     "execution_count": 11,
     "metadata": {},
     "output_type": "execute_result"
    }
   ],
   "source": [
    "type(match)"
   ]
  },
  {
   "cell_type": "code",
   "execution_count": 46,
   "metadata": {},
   "outputs": [
    {
     "name": "stdout",
     "output_type": "stream",
     "text": [
      "NekoQuelloSolido\n",
      "Champion Name: Aatrox, role: DUO\n",
      "kill: 3, deaths: 3, assists: 7,\n",
      "Win\n",
      "*****************************\n",
      "Krickeluke\n",
      "Champion Name: Vi, role: NONE\n",
      "kill: 18, deaths: 18, assists: 16,\n",
      "Win\n",
      "*****************************\n",
      "Trolloldem\n",
      "Champion Name: Malzahar, role: DUO\n",
      "kill: 10, deaths: 10, assists: 14,\n",
      "Win\n",
      "*****************************\n",
      "Autofill Fortune\n",
      "Champion Name: MissFortune, role: CARRY\n",
      "kill: 14, deaths: 14, assists: 11,\n",
      "Win\n",
      "*****************************\n",
      "vales96\n",
      "Champion Name: Nautilus, role: SUPPORT\n",
      "kill: 3, deaths: 3, assists: 23,\n",
      "Win\n",
      "*****************************\n",
      "Mr onderbroek\n",
      "Champion Name: Sion, role: CARRY\n",
      "kill: 8, deaths: 8, assists: 10,\n",
      "Defeat\n",
      "*****************************\n",
      "THE DREΔDNOUGHT\n",
      "Champion Name: Elise, role: SUPPORT\n",
      "kill: 14, deaths: 14, assists: 10,\n",
      "Defeat\n",
      "*****************************\n",
      "dragonsensei\n",
      "Champion Name: Varus, role: SOLO\n",
      "kill: 7, deaths: 7, assists: 6,\n",
      "Defeat\n",
      "*****************************\n",
      "Siamjc86\n",
      "Champion Name: Yasuo, role: CARRY\n",
      "kill: 10, deaths: 10, assists: 5,\n",
      "Defeat\n",
      "*****************************\n",
      "amaaki\n",
      "Champion Name: Lulu, role: SUPPORT\n",
      "kill: 0, deaths: 0, assists: 15,\n",
      "Defeat\n",
      "*****************************\n"
     ]
    }
   ],
   "source": [
    "for x in match['info']['participants']:\n",
    "    print(x['summonerName'])\n",
    "    print(f\"Champion Name: {x['championName']}, role: {x['role']}\")\n",
    "    print(f\"kill: {x['kills']}, deaths: {x['kills']}, assists: {x['assists']},\")\n",
    "    if x['win'] == False:\n",
    "        print('Defeat')\n",
    "    else:\n",
    "        print('Win')\n",
    "    print(\"*****************************\")"
   ]
  },
  {
   "cell_type": "code",
   "execution_count": 18,
   "metadata": {},
   "outputs": [
    {
     "name": "stdout",
     "output_type": "stream",
     "text": [
      "gameCreation\n",
      "gameDuration\n",
      "gameEndTimestamp\n",
      "gameId\n",
      "gameMode\n",
      "gameName\n",
      "gameStartTimestamp\n",
      "gameType\n",
      "gameVersion\n",
      "mapId\n",
      "participants\n",
      "platformId\n",
      "queueId\n",
      "teams\n",
      "tournamentCode\n"
     ]
    }
   ],
   "source": []
  },
  {
   "cell_type": "code",
   "execution_count": null,
   "metadata": {},
   "outputs": [],
   "source": []
  }
 ],
 "metadata": {
  "kernelspec": {
   "display_name": "Python 3.8.13 ('riot_devv')",
   "language": "python",
   "name": "python3"
  },
  "language_info": {
   "codemirror_mode": {
    "name": "ipython",
    "version": 3
   },
   "file_extension": ".py",
   "mimetype": "text/x-python",
   "name": "python",
   "nbconvert_exporter": "python",
   "pygments_lexer": "ipython3",
   "version": "3.8.13"
  },
  "orig_nbformat": 4,
  "vscode": {
   "interpreter": {
    "hash": "0b4e5b7dbbc7737de4c2efd7b1dbf56450c058133da84ddbf909fcbc1971868f"
   }
  }
 },
 "nbformat": 4,
 "nbformat_minor": 2
}
